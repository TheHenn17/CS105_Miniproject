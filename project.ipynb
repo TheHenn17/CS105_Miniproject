{
 "cells": [
  {
   "cell_type": "markdown",
   "id": "dcfc0ce7",
   "metadata": {},
   "source": [
    "# CS 105 Mini Project"
   ]
  },
  {
   "cell_type": "markdown",
   "id": "6635bc15",
   "metadata": {},
   "source": [
    "**Team**: Thomas Henningson, Josh Pennington, Suhail-Anand Dhilon, Cameron Tsai <br><br>\n",
    "This is our CS 105 Mini Project."
   ]
  },
  {
   "cell_type": "markdown",
   "id": "ccc72ee9",
   "metadata": {},
   "source": [
    "# Introduction"
   ]
  },
  {
   "cell_type": "markdown",
   "id": "8928352f-8b71-4154-9617-5caf64fdb2b9",
   "metadata": {},
   "source": [
    "**Question 1**: What data do you have?"
   ]
  },
  {
   "cell_type": "markdown",
   "id": "544a8edd",
   "metadata": {},
   "source": [
    "1. What is your cumulative GPA as of Winter 2022?\n",
    "2. What was your GPA your very first quarter at UCR?\n",
    "3. What is your gender?\n",
    "4. What is your age?\n",
    "5. How many STEM advanced classes did you take in high school (AP, IB, Honors, Dual-Enrollment, etc.)?\n",
    "6. How many social studies/arts advanced classes did you take in high school (AP, IB, Honors, Dual-Enrollment, etc.)?\n",
    "7. How often do you procrastinate?\n",
    "8. Rate the importance of your education in your life on a scale of 1-10\n",
    "9. Rate the enjoyment/fufillment you receive from education on a scale of 1-10\n",
    "10. How many hours do you study per week on average (not including homework)?"
   ]
  },
  {
   "cell_type": "markdown",
   "id": "1fc679be-01c6-4925-9b1f-0db09956c6d5",
   "metadata": {},
   "source": [
    "**Question 2**: What would you like to know?"
   ]
  },
  {
   "cell_type": "markdown",
   "id": "37606fc6",
   "metadata": {},
   "source": [
    "Does taking advanced courses in high school have a postive effect on student's grades, study habits, and outlook on education in college?"
   ]
  },
  {
   "cell_type": "markdown",
   "id": "8152c022",
   "metadata": {},
   "source": [
    "# Exploring the Data"
   ]
  },
  {
   "cell_type": "markdown",
   "id": "bf35cbf9",
   "metadata": {},
   "source": [
    "First, we will remove all of the unnecessary rows for our question and clean the data"
   ]
  },
  {
   "cell_type": "code",
   "execution_count": 51,
   "id": "c560c0f3",
   "metadata": {},
   "outputs": [],
   "source": [
    "import matplotlib.pyplot as plt\n",
    "import pandas as pd\n",
    "from scipy.stats import chi2_contingency\n",
    "\n",
    "data = pd.read_csv(\"CS105_Survey.csv\")\n",
    "\n",
    "inds = [1, 2, 3, 5, 6, 7, 9, 15, 16, 17, 18, 19, 20, 21, 23, 31, 32, 33, 43, 46, 48, 58, 59, 70, 75, 76, 77, 79]\n",
    "\n",
    "data = data.iloc[:,inds]\n",
    "\n",
    "data.to_csv(\"cleaned.csv\")"
   ]
  },
  {
   "cell_type": "markdown",
   "id": "012edab6",
   "metadata": {},
   "source": [
    "Next, we will calculate..."
   ]
  },
  {
   "cell_type": "code",
   "execution_count": 55,
   "id": "818cb769",
   "metadata": {},
   "outputs": [
    {
     "data": {
      "text/html": [
       "<div>\n",
       "<style scoped>\n",
       "    .dataframe tbody tr th:only-of-type {\n",
       "        vertical-align: middle;\n",
       "    }\n",
       "\n",
       "    .dataframe tbody tr th {\n",
       "        vertical-align: top;\n",
       "    }\n",
       "\n",
       "    .dataframe thead th {\n",
       "        text-align: right;\n",
       "    }\n",
       "</style>\n",
       "<table border=\"1\" class=\"dataframe\">\n",
       "  <thead>\n",
       "    <tr style=\"text-align: right;\">\n",
       "      <th>What was your approximate GPA for your first year at UCR?</th>\n",
       "      <th>[2.0, 2.5)</th>\n",
       "      <th>[2.5, 3.0)</th>\n",
       "      <th>[3.0, 3.5)</th>\n",
       "      <th>[3.5, 4.1)</th>\n",
       "    </tr>\n",
       "    <tr>\n",
       "      <th>row_0</th>\n",
       "      <th></th>\n",
       "      <th></th>\n",
       "      <th></th>\n",
       "      <th></th>\n",
       "    </tr>\n",
       "  </thead>\n",
       "  <tbody>\n",
       "    <tr>\n",
       "      <th>[0, 5)</th>\n",
       "      <td>1</td>\n",
       "      <td>2</td>\n",
       "      <td>4</td>\n",
       "      <td>14</td>\n",
       "    </tr>\n",
       "    <tr>\n",
       "      <th>[5, 10)</th>\n",
       "      <td>0</td>\n",
       "      <td>1</td>\n",
       "      <td>4</td>\n",
       "      <td>6</td>\n",
       "    </tr>\n",
       "    <tr>\n",
       "      <th>[10, 15)</th>\n",
       "      <td>0</td>\n",
       "      <td>2</td>\n",
       "      <td>1</td>\n",
       "      <td>9</td>\n",
       "    </tr>\n",
       "    <tr>\n",
       "      <th>[15, 20)</th>\n",
       "      <td>0</td>\n",
       "      <td>0</td>\n",
       "      <td>0</td>\n",
       "      <td>4</td>\n",
       "    </tr>\n",
       "    <tr>\n",
       "      <th>[20, 25)</th>\n",
       "      <td>0</td>\n",
       "      <td>0</td>\n",
       "      <td>0</td>\n",
       "      <td>1</td>\n",
       "    </tr>\n",
       "  </tbody>\n",
       "</table>\n",
       "</div>"
      ],
      "text/plain": [
       "What was your approximate GPA for your first year at UCR?  [2.0, 2.5)  \\\n",
       "row_0                                                                   \n",
       "[0, 5)                                                              1   \n",
       "[5, 10)                                                             0   \n",
       "[10, 15)                                                            0   \n",
       "[15, 20)                                                            0   \n",
       "[20, 25)                                                            0   \n",
       "\n",
       "What was your approximate GPA for your first year at UCR?  [2.5, 3.0)  \\\n",
       "row_0                                                                   \n",
       "[0, 5)                                                              2   \n",
       "[5, 10)                                                             1   \n",
       "[10, 15)                                                            2   \n",
       "[15, 20)                                                            0   \n",
       "[20, 25)                                                            0   \n",
       "\n",
       "What was your approximate GPA for your first year at UCR?  [3.0, 3.5)  \\\n",
       "row_0                                                                   \n",
       "[0, 5)                                                              4   \n",
       "[5, 10)                                                             4   \n",
       "[10, 15)                                                            1   \n",
       "[15, 20)                                                            0   \n",
       "[20, 25)                                                            0   \n",
       "\n",
       "What was your approximate GPA for your first year at UCR?  [3.5, 4.1)  \n",
       "row_0                                                                  \n",
       "[0, 5)                                                             14  \n",
       "[5, 10)                                                             6  \n",
       "[10, 15)                                                            9  \n",
       "[15, 20)                                                            4  \n",
       "[20, 25)                                                            1  "
      ]
     },
     "metadata": {},
     "output_type": "display_data"
    },
    {
     "name": "stdout",
     "output_type": "stream",
     "text": [
      "6.980000990295108 0.8589323368142632 12\n"
     ]
    }
   ],
   "source": [
    "# Pulling the advanced courses from the data\n",
    "gpa_courses = data.iloc[:,[5,7,8]].dropna().replace(\"None\", \"0\")\n",
    "\n",
    "sumCourses = gpa_courses.iloc[:,1:3].astype(int).sum(axis=1)\n",
    "sumCourses = pd.cut(sumCourses,bins=[0,5,10,15,20,25],right=False)\n",
    "\n",
    "yearOneGPA = gpa_courses.iloc[:,0].astype(float)\n",
    "yearOneGPA = pd.cut(yearOneGPA,bins=[0,0.5,1.0,1.5,2.0,2.5,3.0,3.5,4.1],right=False)\n",
    "\n",
    "table = pd.crosstab(sumCourses, yearOneGPA)\n",
    "display(table)\n",
    "c, p, dof, expected = chi2_contingency(table)\n",
    "print(c, p, dof)"
   ]
  },
  {
   "cell_type": "markdown",
   "id": "8cf7eac8",
   "metadata": {},
   "source": [
    "\n",
    "Scatter plot\n",
    "\tGPA vs # courses taken\n",
    "\tstudy hours vs # courses\n",
    "\tstudy hours to GPA\n",
    "\n",
    "Histogram\n",
    "\n",
    "Pie chart\n",
    "\tGender?\n",
    "\n",
    "Bar chart\n",
    "\tGPA distribution\n",
    "\tAdvanced courses distribution\n",
    "\n",
    "Box Plot\n",
    "\tDistribution of first quarter GPA and overall GPA, for each bin of # courses?"
   ]
  },
  {
   "cell_type": "markdown",
   "id": "5fa2b486",
   "metadata": {},
   "source": [
    "# Hypothesis"
   ]
  },
  {
   "cell_type": "markdown",
   "id": "7106411a",
   "metadata": {},
   "source": [
    "uhh"
   ]
  }
 ],
 "metadata": {
  "kernelspec": {
   "display_name": "Python 3 (ipykernel)",
   "language": "python",
   "name": "python3"
  },
  "language_info": {
   "codemirror_mode": {
    "name": "ipython",
    "version": 3
   },
   "file_extension": ".py",
   "mimetype": "text/x-python",
   "name": "python",
   "nbconvert_exporter": "python",
   "pygments_lexer": "ipython3",
   "version": "3.9.6"
  }
 },
 "nbformat": 4,
 "nbformat_minor": 5
}
