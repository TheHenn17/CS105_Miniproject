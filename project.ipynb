{
 "cells": [
  {
   "cell_type": "markdown",
   "id": "dcfc0ce7",
   "metadata": {},
   "source": [
    "# CS 105 Mini Project"
   ]
  },
  {
   "cell_type": "markdown",
   "id": "6635bc15",
   "metadata": {},
   "source": [
    "**Team**: Thomas Henningson, Josh Pennington, Suhail-Anand Dhilon, Cameron Tsai <br><br>\n",
    "This is our CS 105 Mini Project."
   ]
  },
  {
   "cell_type": "markdown",
   "id": "ccc72ee9",
   "metadata": {},
   "source": [
    "# Introduction"
   ]
  },
  {
   "cell_type": "markdown",
   "id": "8928352f-8b71-4154-9617-5caf64fdb2b9",
   "metadata": {},
   "source": [
    "**Question 1**: What data do you have?"
   ]
  },
  {
   "cell_type": "markdown",
   "id": "544a8edd",
   "metadata": {},
   "source": [
    "1. What was your GPA after your very first quarter of college? <br>\n",
    "2. ... <br>"
   ]
  },
  {
   "cell_type": "markdown",
   "id": "1fc679be-01c6-4925-9b1f-0db09956c6d5",
   "metadata": {},
   "source": [
    "**Question 2**: What would you like to know?"
   ]
  },
  {
   "cell_type": "markdown",
   "id": "37606fc6",
   "metadata": {},
   "source": [
    "Does taking advanced courses in high school have a postive effect on student's grades, study habits, and outlook on education in college?"
   ]
  },
  {
   "cell_type": "markdown",
   "id": "8152c022",
   "metadata": {},
   "source": [
    "# Exploring the Data"
   ]
  },
  {
   "cell_type": "markdown",
   "id": "bf35cbf9",
   "metadata": {},
   "source": [
    "uhh"
   ]
  },
  {
   "cell_type": "markdown",
   "id": "5fa2b486",
   "metadata": {},
   "source": [
    "# Hypothesis"
   ]
  },
  {
   "cell_type": "markdown",
   "id": "6c0188d0",
   "metadata": {},
   "source": [
    "uhh"
   ]
  },
  {
   "cell_type": "markdown",
   "id": "5369bc24",
   "metadata": {},
   "source": [
    "# Testing"
   ]
  },
  {
   "cell_type": "markdown",
   "id": "7106411a",
   "metadata": {},
   "source": [
    "uhh"
   ]
  }
 ],
 "metadata": {
  "kernelspec": {
   "display_name": "Python 3 (ipykernel)",
   "language": "python",
   "name": "python3"
  },
  "language_info": {
   "codemirror_mode": {
    "name": "ipython",
    "version": 3
   },
   "file_extension": ".py",
   "mimetype": "text/x-python",
   "name": "python",
   "nbconvert_exporter": "python",
   "pygments_lexer": "ipython3",
   "version": "3.9.6"
  }
 },
 "nbformat": 4,
 "nbformat_minor": 5
}
