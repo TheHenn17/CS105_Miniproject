{
 "cells": [
  {
   "cell_type": "markdown",
   "id": "8928352f-8b71-4154-9617-5caf64fdb2b9",
   "metadata": {},
   "source": [
    "**Contents**: graphs, correlations, chi-square tests and more functions for data cleaning."
   ]
  },
  {
   "cell_type": "markdown",
   "id": "1fc679be-01c6-4925-9b1f-0db09956c6d5",
   "metadata": {},
   "source": [
    "**Graphs used in the previous lab:**<br> \n",
    "(Some of the definitions refered from the CS105 lectures notes by Professor Strzheletska)<br> \n",
    "\n",
    "Histogram: Frequency distribution of a variable.<br>\n",
    "Bar graph: Any numeric value of a categorical or loosely-ordered variable.<br>\n",
    "Stacked bar plot: Conditional distribution <br>\n",
    "Heatmaps: joint distribution <br>\n",
    "pie plots: Illustrate numeric proportions.<br>\n",
    "\n",
    "**Today we will cover some new graphs!**"
   ]
  },
  {
   "cell_type": "code",
   "execution_count": 27,
   "id": "8ed4f9f1-3274-4fa6-8316-90bd62353163",
   "metadata": {},
   "outputs": [],
   "source": [
    "import pandas as pd\n",
    "import matplotlib.pyplot as plt\n",
    "import numpy as np"
   ]
  },
  {
   "cell_type": "markdown",
   "id": "0752c1c0-f4e1-40d1-a391-f3be7eb89b8a",
   "metadata": {},
   "source": [
    "**Scatter plot**<br>\n",
    "To observe and show relationships between two numeric variables.<br>\n",
    "Helpful in identification of the correlation relationships.\n"
   ]
  },
  {
   "cell_type": "code",
   "execution_count": 28,
   "id": "42e64e6a-0cc9-4b0f-becd-61e9d1b9d0ae",
   "metadata": {},
   "outputs": [
    {
     "data": {
      "text/html": [
       "<div>\n",
       "<style scoped>\n",
       "    .dataframe tbody tr th:only-of-type {\n",
       "        vertical-align: middle;\n",
       "    }\n",
       "\n",
       "    .dataframe tbody tr th {\n",
       "        vertical-align: top;\n",
       "    }\n",
       "\n",
       "    .dataframe thead th {\n",
       "        text-align: right;\n",
       "    }\n",
       "</style>\n",
       "<table border=\"1\" class=\"dataframe\">\n",
       "  <thead>\n",
       "    <tr style=\"text-align: right;\">\n",
       "      <th></th>\n",
       "      <th>Weight</th>\n",
       "      <th>AgeM</th>\n",
       "      <th>Baby Teeth</th>\n",
       "      <th>Eye Color</th>\n",
       "    </tr>\n",
       "  </thead>\n",
       "  <tbody>\n",
       "    <tr>\n",
       "      <th>0</th>\n",
       "      <td>33</td>\n",
       "      <td>48</td>\n",
       "      <td>19</td>\n",
       "      <td>1</td>\n",
       "    </tr>\n",
       "    <tr>\n",
       "      <th>1</th>\n",
       "      <td>36</td>\n",
       "      <td>64</td>\n",
       "      <td>12</td>\n",
       "      <td>3</td>\n",
       "    </tr>\n",
       "    <tr>\n",
       "      <th>2</th>\n",
       "      <td>34</td>\n",
       "      <td>53</td>\n",
       "      <td>18</td>\n",
       "      <td>2</td>\n",
       "    </tr>\n",
       "    <tr>\n",
       "      <th>3</th>\n",
       "      <td>40</td>\n",
       "      <td>70</td>\n",
       "      <td>5</td>\n",
       "      <td>2</td>\n",
       "    </tr>\n",
       "    <tr>\n",
       "      <th>4</th>\n",
       "      <td>32</td>\n",
       "      <td>44</td>\n",
       "      <td>20</td>\n",
       "      <td>3</td>\n",
       "    </tr>\n",
       "  </tbody>\n",
       "</table>\n",
       "</div>"
      ],
      "text/plain": [
       "   Weight  AgeM  Baby Teeth  Eye Color\n",
       "0      33    48          19          1\n",
       "1      36    64          12          3\n",
       "2      34    53          18          2\n",
       "3      40    70           5          2\n",
       "4      32    44          20          3"
      ]
     },
     "execution_count": 28,
     "metadata": {},
     "output_type": "execute_result"
    }
   ],
   "source": [
    "df = pd.DataFrame({'Weight':[33,36,34,40,32,37,35], 'AgeM': [48,64,53,70,44,66,59], 'Baby Teeth':[19,12,18,5,20,10,15], \"Eye Color\":[1,3,2,2,3,1,2] })\n",
    "df.head()"
   ]
  },
  {
   "cell_type": "code",
   "execution_count": 29,
   "id": "616fb62b-967b-4be7-9152-fc9f924ee1a2",
   "metadata": {},
   "outputs": [
    {
     "data": {
      "image/png": "[encoded data removed]",
      "text/plain": [
       "<Figure size 432x288 with 1 Axes>"
      ]
     },
     "metadata": {
      "needs_background": "light"
     },
     "output_type": "display_data"
    }
   ],
   "source": [
    "# use scatter graph to check the relationship between AgeM and Weight.\n",
    "plt.scatter(df.AgeM,df.Weight)\n",
    "plt.xlabel(\"Age-months\")\n",
    "plt.ylabel(\"Weight\")\n",
    "plt.show()"
   ]
  },
  {
   "cell_type": "markdown",
   "id": "d6fc6945-b766-412d-97e5-1d6251c9aa9c",
   "metadata": {},
   "source": [
    "**Directly calculate the Pearson's correlations of variables**:"
   ]
  },
  {
   "cell_type": "code",
   "execution_count": 30,
   "id": "2f3c00e8-691b-4de9-93c2-37ce41cb060c",
   "metadata": {},
   "outputs": [
    {
     "data": {
      "text/plain": [
       "0.9544913454946771"
      ]
     },
     "execution_count": 30,
     "metadata": {},
     "output_type": "execute_result"
    }
   ],
   "source": [
    "# calculate the pearson's correlation between two variables\n",
    "df.Weight.corr(df.AgeM, method = 'pearson')\n",
    "# df.AgeM.corr(df.Weight, method = 'pearson')"
   ]
  },
  {
   "cell_type": "code",
   "execution_count": 31,
   "id": "73d7c861-41c3-493f-8aad-bdeccfebb357",
   "metadata": {},
   "outputs": [
    {
     "data": {
      "text/html": [
       "<div>\n",
       "<style scoped>\n",
       "    .dataframe tbody tr th:only-of-type {\n",
       "        vertical-align: middle;\n",
       "    }\n",
       "\n",
       "    .dataframe tbody tr th {\n",
       "        vertical-align: top;\n",
       "    }\n",
       "\n",
       "    .dataframe thead th {\n",
       "        text-align: right;\n",
       "    }\n",
       "</style>\n",
       "<table border=\"1\" class=\"dataframe\">\n",
       "  <thead>\n",
       "    <tr style=\"text-align: right;\">\n",
       "      <th></th>\n",
       "      <th>Weight</th>\n",
       "      <th>AgeM</th>\n",
       "      <th>Baby Teeth</th>\n",
       "      <th>Eye Color</th>\n",
       "    </tr>\n",
       "  </thead>\n",
       "  <tbody>\n",
       "    <tr>\n",
       "      <th>Weight</th>\n",
       "      <td>1.000000</td>\n",
       "      <td>0.954491</td>\n",
       "      <td>-0.990381</td>\n",
       "      <td>-0.151744</td>\n",
       "    </tr>\n",
       "    <tr>\n",
       "      <th>AgeM</th>\n",
       "      <td>0.954491</td>\n",
       "      <td>1.000000</td>\n",
       "      <td>-0.958188</td>\n",
       "      <td>-0.126163</td>\n",
       "    </tr>\n",
       "    <tr>\n",
       "      <th>Baby Teeth</th>\n",
       "      <td>-0.990381</td>\n",
       "      <td>-0.958188</td>\n",
       "      <td>1.000000</td>\n",
       "      <td>0.112160</td>\n",
       "    </tr>\n",
       "    <tr>\n",
       "      <th>Eye Color</th>\n",
       "      <td>-0.151744</td>\n",
       "      <td>-0.126163</td>\n",
       "      <td>0.112160</td>\n",
       "      <td>1.000000</td>\n",
       "    </tr>\n",
       "  </tbody>\n",
       "</table>\n",
       "</div>"
      ],
      "text/plain": [
       "              Weight      AgeM  Baby Teeth  Eye Color\n",
       "Weight      1.000000  0.954491   -0.990381  -0.151744\n",
       "AgeM        0.954491  1.000000   -0.958188  -0.126163\n",
       "Baby Teeth -0.990381 -0.958188    1.000000   0.112160\n",
       "Eye Color  -0.151744 -0.126163    0.112160   1.000000"
      ]
     },
     "execution_count": 31,
     "metadata": {},
     "output_type": "execute_result"
    }
   ],
   "source": [
    "# calculate the pairwise pearson's correlation of multiple columns\n",
    "r = df.corr()\n",
    "r"
   ]
  },
  {
   "cell_type": "markdown",
   "id": "befb53d4-98f6-4b2c-af79-8f7b755f90d8",
   "metadata": {},
   "source": [
    "**Use the heatmap to show the correlations**"
   ]
  },
  {
   "cell_type": "code",
   "execution_count": 32,
   "id": "c1a8587f-6b8f-40a5-a087-5e610efca427",
   "metadata": {},
   "outputs": [
    {
     "data": {
      "image/png": "[encoded data removed]",
      "text/plain": [
       "<Figure size 432x288 with 2 Axes>"
      ]
     },
     "metadata": {
      "needs_background": "light"
     },
     "output_type": "display_data"
    }
   ],
   "source": [
    "# use the heatmap to show the correlations\n",
    "import seaborn as sns\n",
    "# parameter \"center\" indicate the value at which to center the colormap when plotting divergant data.\n",
    "# https://seaborn.pydata.org/generated/seaborn.heatmap.html\n",
    "sns.heatmap(r, center= 0, cmap = \"coolwarm\",annot= True)\n",
    "plt.show()"
   ]
  },
  {
   "cell_type": "markdown",
   "id": "6c5e1189-b547-4610-b7b4-230841d66ca0",
   "metadata": {},
   "source": [
    "**Boxplots**<br> \n",
    "Can display the distribution of a variable based on the five-number summary: the minimum, the maximum, the sample **median**, and the first and third quartiles.<br>"
   ]
  },
  {
   "cell_type": "code",
   "execution_count": 33,
   "id": "aed7793b-3133-4beb-9d58-dcdbef098dd8",
   "metadata": {},
   "outputs": [
    {
     "data": {
      "text/html": [
       "<div>\n",
       "<style scoped>\n",
       "    .dataframe tbody tr th:only-of-type {\n",
       "        vertical-align: middle;\n",
       "    }\n",
       "\n",
       "    .dataframe tbody tr th {\n",
       "        vertical-align: top;\n",
       "    }\n",
       "\n",
       "    .dataframe thead th {\n",
       "        text-align: right;\n",
       "    }\n",
       "</style>\n",
       "<table border=\"1\" class=\"dataframe\">\n",
       "  <thead>\n",
       "    <tr style=\"text-align: right;\">\n",
       "      <th></th>\n",
       "      <th>score_a</th>\n",
       "    </tr>\n",
       "  </thead>\n",
       "  <tbody>\n",
       "    <tr>\n",
       "      <th>0</th>\n",
       "      <td>1</td>\n",
       "    </tr>\n",
       "    <tr>\n",
       "      <th>1</th>\n",
       "      <td>2</td>\n",
       "    </tr>\n",
       "    <tr>\n",
       "      <th>2</th>\n",
       "      <td>3</td>\n",
       "    </tr>\n",
       "    <tr>\n",
       "      <th>3</th>\n",
       "      <td>4</td>\n",
       "    </tr>\n",
       "    <tr>\n",
       "      <th>4</th>\n",
       "      <td>5</td>\n",
       "    </tr>\n",
       "    <tr>\n",
       "      <th>5</th>\n",
       "      <td>6</td>\n",
       "    </tr>\n",
       "    <tr>\n",
       "      <th>6</th>\n",
       "      <td>7</td>\n",
       "    </tr>\n",
       "    <tr>\n",
       "      <th>7</th>\n",
       "      <td>8</td>\n",
       "    </tr>\n",
       "    <tr>\n",
       "      <th>8</th>\n",
       "      <td>9</td>\n",
       "    </tr>\n",
       "  </tbody>\n",
       "</table>\n",
       "</div>"
      ],
      "text/plain": [
       "   score_a\n",
       "0        1\n",
       "1        2\n",
       "2        3\n",
       "3        4\n",
       "4        5\n",
       "5        6\n",
       "6        7\n",
       "7        8\n",
       "8        9"
      ]
     },
     "execution_count": 33,
     "metadata": {},
     "output_type": "execute_result"
    }
   ],
   "source": [
    "box_df = pd.DataFrame({'score_a': [1,2,3,4,5,6,7,8,9]})\n",
    "box_df"
   ]
  },
  {
   "cell_type": "markdown",
   "id": "a18a2321-7f1c-40c4-83a2-43f32b866d76",
   "metadata": {},
   "source": [
    "**median (Q2/50th Percentile)**: the middle-point of the ordered data.<br> \n",
    "**first quartile (Q1/25th Percentile)**: the middle-point from the minimum to the median. 25% data fall below this value.<br> \n",
    "**third quartile (Q3/75th Percentile)**: the middle-point from the median to the maximum. 75% data fall below this value.<br> \n",
    "**interquartile range (IQR)**: Q3 - Q1.<br> \n",
    "**maximum** and **minimum** <br> \n",
    "The data point larger than Q3+1.5IQR, or smaller than Q1-1.5IQR will be considered as the outlier.<br>\n",
    "**boxplot can also identify the outliners of a dataset.**"
   ]
  },
  {
   "cell_type": "code",
   "execution_count": 34,
   "id": "beba816f-0c30-4fb2-a212-005e6c8b9824",
   "metadata": {},
   "outputs": [
    {
     "data": {
      "text/plain": [
       "<AxesSubplot:>"
      ]
     },
     "execution_count": 34,
     "metadata": {},
     "output_type": "execute_result"
    },
    {
     "data": {
      "image/png": "[encoded data removed]",
      "text/plain": [
       "<Figure size 432x288 with 1 Axes>"
      ]
     },
     "metadata": {
      "needs_background": "light"
     },
     "output_type": "display_data"
    }
   ],
   "source": [
    "# box_df.boxplot()\n",
    "box_df.boxplot(column= [\"score_a\"])"
   ]
  },
  {
   "cell_type": "code",
   "execution_count": 35,
   "id": "81e9cbce-56c1-4ba7-ac98-0e1c17334197",
   "metadata": {},
   "outputs": [
    {
     "data": {
      "text/html": [
       "<div>\n",
       "<style scoped>\n",
       "    .dataframe tbody tr th:only-of-type {\n",
       "        vertical-align: middle;\n",
       "    }\n",
       "\n",
       "    .dataframe tbody tr th {\n",
       "        vertical-align: top;\n",
       "    }\n",
       "\n",
       "    .dataframe thead th {\n",
       "        text-align: right;\n",
       "    }\n",
       "</style>\n",
       "<table border=\"1\" class=\"dataframe\">\n",
       "  <thead>\n",
       "    <tr style=\"text-align: right;\">\n",
       "      <th></th>\n",
       "      <th>Weight</th>\n",
       "      <th>AgeM</th>\n",
       "      <th>Baby Teeth</th>\n",
       "      <th>Eye Color</th>\n",
       "    </tr>\n",
       "  </thead>\n",
       "  <tbody>\n",
       "    <tr>\n",
       "      <th>0</th>\n",
       "      <td>33</td>\n",
       "      <td>48</td>\n",
       "      <td>19</td>\n",
       "      <td>1</td>\n",
       "    </tr>\n",
       "    <tr>\n",
       "      <th>1</th>\n",
       "      <td>36</td>\n",
       "      <td>64</td>\n",
       "      <td>12</td>\n",
       "      <td>3</td>\n",
       "    </tr>\n",
       "    <tr>\n",
       "      <th>2</th>\n",
       "      <td>34</td>\n",
       "      <td>53</td>\n",
       "      <td>18</td>\n",
       "      <td>2</td>\n",
       "    </tr>\n",
       "    <tr>\n",
       "      <th>3</th>\n",
       "      <td>40</td>\n",
       "      <td>70</td>\n",
       "      <td>5</td>\n",
       "      <td>2</td>\n",
       "    </tr>\n",
       "    <tr>\n",
       "      <th>4</th>\n",
       "      <td>32</td>\n",
       "      <td>44</td>\n",
       "      <td>20</td>\n",
       "      <td>3</td>\n",
       "    </tr>\n",
       "  </tbody>\n",
       "</table>\n",
       "</div>"
      ],
      "text/plain": [
       "   Weight  AgeM  Baby Teeth  Eye Color\n",
       "0      33    48          19          1\n",
       "1      36    64          12          3\n",
       "2      34    53          18          2\n",
       "3      40    70           5          2\n",
       "4      32    44          20          3"
      ]
     },
     "execution_count": 35,
     "metadata": {},
     "output_type": "execute_result"
    }
   ],
   "source": [
    "# go back the previous example.\n",
    "df.head()"
   ]
  },
  {
   "cell_type": "code",
   "execution_count": 36,
   "id": "828fe054-dcea-41e1-aa4e-c8980d48dd56",
   "metadata": {},
   "outputs": [
    {
     "data": {
      "text/plain": [
       "<AxesSubplot:>"
      ]
     },
     "execution_count": 36,
     "metadata": {},
     "output_type": "execute_result"
    },
    {
     "data": {
      "image/png": "[encoded data removed]",
      "text/plain": [
       "<Figure size 432x288 with 1 Axes>"
      ]
     },
     "metadata": {
      "needs_background": "light"
     },
     "output_type": "display_data"
    }
   ],
   "source": [
    "df.boxplot()"
   ]
  },
  {
   "cell_type": "markdown",
   "id": "23eb3e5e-9596-4186-8ead-22106e1e0d78",
   "metadata": {},
   "source": [
    "**Is boxplot good for purely categoricial data?**"
   ]
  },
  {
   "cell_type": "markdown",
   "id": "8a0c6d9a-d1f2-4c72-87f1-a1d2a9693c58",
   "metadata": {},
   "source": [
    "**Violin plot**<br> \n",
    "Very similar to the boxplot, but it can also estimate the probability distribution of the variable. When you have more samples, Violin can show more information than the box plot. "
   ]
  },
  {
   "cell_type": "code",
   "execution_count": 37,
   "id": "25b0fc91-c645-4586-8338-20a03b5475bb",
   "metadata": {},
   "outputs": [
    {
     "data": {
      "text/plain": [
       "<AxesSubplot:xlabel='Weight'>"
      ]
     },
     "execution_count": 37,
     "metadata": {},
     "output_type": "execute_result"
    },
    {
     "data": {
      "image/png": "[encoded data removed]",
      "text/plain": [
       "<Figure size 432x288 with 1 Axes>"
      ]
     },
     "metadata": {
      "needs_background": "light"
     },
     "output_type": "display_data"
    }
   ],
   "source": [
    "sns.violinplot(x = df[\"Weight\"])"
   ]
  },
  {
   "cell_type": "markdown",
   "id": "1ce60072-0d08-4c52-8b64-028ac1fde9bc",
   "metadata": {},
   "source": [
    "**waterfall chart**<br> \n",
    "show how a starting value of something (say, a beginning monthly balance in a checking account) becomes a final value (such as the balance in the account at the end of the month) through a series of intermediate additions and subtractions.\n",
    "(refer from https://msktc.org/lib/docs/KT_Toolkit/Charts_and_Graphs/Charts_Waterfall_Charts_508c.pdf)"
   ]
  },
  {
   "cell_type": "code",
   "execution_count": 38,
   "id": "17613a78-1321-4230-8615-397230219065",
   "metadata": {},
   "outputs": [],
   "source": [
    "# pip install waterfallcharts"
   ]
  },
  {
   "cell_type": "code",
   "execution_count": 39,
   "id": "c40d95de-24b7-4185-88bc-90ffda46dab1",
   "metadata": {},
   "outputs": [],
   "source": [
    "import waterfall_chart"
   ]
  },
  {
   "cell_type": "code",
   "execution_count": 40,
   "id": "97d2302b-9879-4106-b78a-90a0bbdd755a",
   "metadata": {},
   "outputs": [
    {
     "data": {
      "text/html": [
       "<div>\n",
       "<style scoped>\n",
       "    .dataframe tbody tr th:only-of-type {\n",
       "        vertical-align: middle;\n",
       "    }\n",
       "\n",
       "    .dataframe tbody tr th {\n",
       "        vertical-align: top;\n",
       "    }\n",
       "\n",
       "    .dataframe thead th {\n",
       "        text-align: right;\n",
       "    }\n",
       "</style>\n",
       "<table border=\"1\" class=\"dataframe\">\n",
       "  <thead>\n",
       "    <tr style=\"text-align: right;\">\n",
       "      <th></th>\n",
       "      <th>Categories</th>\n",
       "      <th>Amount</th>\n",
       "    </tr>\n",
       "  </thead>\n",
       "  <tbody>\n",
       "    <tr>\n",
       "      <th>0</th>\n",
       "      <td>sales</td>\n",
       "      <td>10.0</td>\n",
       "    </tr>\n",
       "    <tr>\n",
       "      <th>1</th>\n",
       "      <td>returns</td>\n",
       "      <td>-30.0</td>\n",
       "    </tr>\n",
       "    <tr>\n",
       "      <th>2</th>\n",
       "      <td>credit fees</td>\n",
       "      <td>-7.5</td>\n",
       "    </tr>\n",
       "    <tr>\n",
       "      <th>3</th>\n",
       "      <td>rebates</td>\n",
       "      <td>-25.0</td>\n",
       "    </tr>\n",
       "    <tr>\n",
       "      <th>4</th>\n",
       "      <td>late charges</td>\n",
       "      <td>95.0</td>\n",
       "    </tr>\n",
       "    <tr>\n",
       "      <th>5</th>\n",
       "      <td>shipping</td>\n",
       "      <td>-7.0</td>\n",
       "    </tr>\n",
       "  </tbody>\n",
       "</table>\n",
       "</div>"
      ],
      "text/plain": [
       "     Categories  Amount\n",
       "0         sales    10.0\n",
       "1       returns   -30.0\n",
       "2   credit fees    -7.5\n",
       "3       rebates   -25.0\n",
       "4  late charges    95.0\n",
       "5      shipping    -7.0"
      ]
     },
     "execution_count": 40,
     "metadata": {},
     "output_type": "execute_result"
    }
   ],
   "source": [
    "# example from https://github.com/chrispaulca/waterfall\n",
    "x = pd.DataFrame({\"Categories\": ['sales','returns','credit fees','rebates','late charges','shipping'], \n",
    "                   \"Amount\": [10,-30,-7.5,-25,95,-7]})\n",
    "x"
   ]
  },
  {
   "cell_type": "code",
   "execution_count": 41,
   "id": "4e735e0b-6730-488f-9f13-da100d31168d",
   "metadata": {},
   "outputs": [
    {
     "name": "stderr",
     "output_type": "stream",
     "text": [
      "c:\\Users\\thoma\\CS105\\Lab5_6\\lab56\\lib\\site-packages\\waterfall_chart.py:66: FutureWarning: Behavior when concatenating bool-dtype and numeric-dtype arrays is deprecated; in a future version these will cast to object dtype (instead of coercing bools to numeric values). To retain the old behavior, explicitly cast bool-dtype arrays to numeric dtype.\n",
      "  trans.loc[net_label]= total\n"
     ]
    },
    {
     "data": {
      "image/png": "[encoded data removed]",
      "text/plain": [
       "<Figure size 432x288 with 1 Axes>"
      ]
     },
     "metadata": {
      "needs_background": "light"
     },
     "output_type": "display_data"
    }
   ],
   "source": [
    "my_plot = waterfall_chart.plot(x[\"Categories\"], x[\"Amount\"])"
   ]
  },
  {
   "cell_type": "markdown",
   "id": "2eed31f1-4aed-4459-af50-a7a88dd148d0",
   "metadata": {},
   "source": [
    "**Chi-Square Test**<br> \n",
    "We can use this test to check if two variables are independent or not."
   ]
  },
  {
   "cell_type": "code",
   "execution_count": 42,
   "id": "caa3b599-afcc-4f90-a4df-006545609e2f",
   "metadata": {},
   "outputs": [
    {
     "data": {
      "text/html": [
       "<div>\n",
       "<style scoped>\n",
       "    .dataframe tbody tr th:only-of-type {\n",
       "        vertical-align: middle;\n",
       "    }\n",
       "\n",
       "    .dataframe tbody tr th {\n",
       "        vertical-align: top;\n",
       "    }\n",
       "\n",
       "    .dataframe thead th {\n",
       "        text-align: right;\n",
       "    }\n",
       "</style>\n",
       "<table border=\"1\" class=\"dataframe\">\n",
       "  <thead>\n",
       "    <tr style=\"text-align: right;\">\n",
       "      <th></th>\n",
       "      <th>male</th>\n",
       "      <th>female</th>\n",
       "    </tr>\n",
       "  </thead>\n",
       "  <tbody>\n",
       "    <tr>\n",
       "      <th>frction</th>\n",
       "      <td>250</td>\n",
       "      <td>200</td>\n",
       "    </tr>\n",
       "    <tr>\n",
       "      <th>non_fiction</th>\n",
       "      <td>50</td>\n",
       "      <td>1000</td>\n",
       "    </tr>\n",
       "  </tbody>\n",
       "</table>\n",
       "</div>"
      ],
      "text/plain": [
       "             male  female\n",
       "frction       250     200\n",
       "non_fiction    50    1000"
      ]
     },
     "execution_count": 42,
     "metadata": {},
     "output_type": "execute_result"
    }
   ],
   "source": [
    "# The example is taken from the cs105 class. We want to check if the ?? and ?? is independent or not.\n",
    "data = pd.DataFrame({'male':[250,50], 'female': [200,1000]},index=[\"frction\",\"non_fiction\"])\n",
    "data"
   ]
  },
  {
   "cell_type": "code",
   "execution_count": 43,
   "id": "e147800f-2048-4a53-99c9-6a889fbb520d",
   "metadata": {},
   "outputs": [
    {
     "name": "stdout",
     "output_type": "stream",
     "text": [
      "calculated chi square value:  504.76686507936506\n"
     ]
    }
   ],
   "source": [
    "# calculate the chi-square value of the dataset\n",
    "from scipy.stats import chi2_contingency\n",
    "# https://docs.scipy.org/doc/scipy/reference/generated/scipy.stats.chi2_contingency.html\n",
    "chi, p, dfree, expected = chi2_contingency(data)\n",
    "print(\"calculated chi square value: \" ,chi)\n",
    "# print(\"degree of freedom: \", dfree)\n"
   ]
  },
  {
   "cell_type": "code",
   "execution_count": 44,
   "id": "3051de59-0f46-4011-aad4-23ee12923281",
   "metadata": {},
   "outputs": [
    {
     "name": "stdout",
     "output_type": "stream",
     "text": [
      "for 1 degree of freedom, the chi-square value needed to reject the hypothesis at the 0.001 significance level:\n"
     ]
    },
    {
     "data": {
      "text/plain": [
       "10.827566170662733"
      ]
     },
     "execution_count": 44,
     "metadata": {},
     "output_type": "execute_result"
    }
   ],
   "source": [
    "# get the threshold to reject the hypothesis by certain significance value and the degree of the freedom.\n",
    "from scipy.stats import chi2\n",
    "print(\"for 1 degree of freedom, the chi-square value needed to reject the hypothesis at the 0.001 significance level:\")\n",
    "chi2.ppf(1-0.001, 1)"
   ]
  },
  {
   "cell_type": "markdown",
   "id": "f1417323-e31c-45fc-b117-3da2ee946321",
   "metadata": {},
   "source": [
    "**More functions about the data cleaning**"
   ]
  },
  {
   "cell_type": "code",
   "execution_count": 45,
   "id": "b006df5a-3bdf-4ad7-8924-134fcfc95e52",
   "metadata": {},
   "outputs": [
    {
     "data": {
      "text/html": [
       "<div>\n",
       "<style scoped>\n",
       "    .dataframe tbody tr th:only-of-type {\n",
       "        vertical-align: middle;\n",
       "    }\n",
       "\n",
       "    .dataframe tbody tr th {\n",
       "        vertical-align: top;\n",
       "    }\n",
       "\n",
       "    .dataframe thead th {\n",
       "        text-align: right;\n",
       "    }\n",
       "</style>\n",
       "<table border=\"1\" class=\"dataframe\">\n",
       "  <thead>\n",
       "    <tr style=\"text-align: right;\">\n",
       "      <th></th>\n",
       "      <th>score1</th>\n",
       "      <th>score2</th>\n",
       "      <th>score3</th>\n",
       "    </tr>\n",
       "  </thead>\n",
       "  <tbody>\n",
       "    <tr>\n",
       "      <th>0</th>\n",
       "      <td>good</td>\n",
       "      <td>bad</td>\n",
       "      <td>bad</td>\n",
       "    </tr>\n",
       "    <tr>\n",
       "      <th>1</th>\n",
       "      <td>fair</td>\n",
       "      <td>good</td>\n",
       "      <td>fair</td>\n",
       "    </tr>\n",
       "    <tr>\n",
       "      <th>2</th>\n",
       "      <td>bad</td>\n",
       "      <td>bad</td>\n",
       "      <td>good</td>\n",
       "    </tr>\n",
       "    <tr>\n",
       "      <th>3</th>\n",
       "      <td>fair</td>\n",
       "      <td>fair</td>\n",
       "      <td>fair</td>\n",
       "    </tr>\n",
       "  </tbody>\n",
       "</table>\n",
       "</div>"
      ],
      "text/plain": [
       "  score1 score2 score3\n",
       "0   good    bad    bad\n",
       "1   fair   good   fair\n",
       "2    bad    bad   good\n",
       "3   fair   fair   fair"
      ]
     },
     "execution_count": 45,
     "metadata": {},
     "output_type": "execute_result"
    }
   ],
   "source": [
    "scores = pd.DataFrame({'score1':['good','fair','bad','fair'],'score2':['bad','good','bad','fair'],'score3':['bad','fair','good','fair']})\n",
    "scores"
   ]
  },
  {
   "cell_type": "markdown",
   "id": "e5ce42f6-6091-4539-8f45-de7dfeb1ca8d",
   "metadata": {},
   "source": [
    "**Directly replace labels with numeric values**"
   ]
  },
  {
   "cell_type": "code",
   "execution_count": 46,
   "id": "dcf85adb-1b12-4e4e-8bcc-ecd93d58d841",
   "metadata": {},
   "outputs": [
    {
     "data": {
      "text/html": [
       "<div>\n",
       "<style scoped>\n",
       "    .dataframe tbody tr th:only-of-type {\n",
       "        vertical-align: middle;\n",
       "    }\n",
       "\n",
       "    .dataframe tbody tr th {\n",
       "        vertical-align: top;\n",
       "    }\n",
       "\n",
       "    .dataframe thead th {\n",
       "        text-align: right;\n",
       "    }\n",
       "</style>\n",
       "<table border=\"1\" class=\"dataframe\">\n",
       "  <thead>\n",
       "    <tr style=\"text-align: right;\">\n",
       "      <th></th>\n",
       "      <th>score1</th>\n",
       "      <th>score2</th>\n",
       "      <th>score3</th>\n",
       "    </tr>\n",
       "  </thead>\n",
       "  <tbody>\n",
       "    <tr>\n",
       "      <th>0</th>\n",
       "      <td>2</td>\n",
       "      <td>bad</td>\n",
       "      <td>bad</td>\n",
       "    </tr>\n",
       "    <tr>\n",
       "      <th>1</th>\n",
       "      <td>1</td>\n",
       "      <td>good</td>\n",
       "      <td>fair</td>\n",
       "    </tr>\n",
       "    <tr>\n",
       "      <th>2</th>\n",
       "      <td>0</td>\n",
       "      <td>bad</td>\n",
       "      <td>good</td>\n",
       "    </tr>\n",
       "    <tr>\n",
       "      <th>3</th>\n",
       "      <td>1</td>\n",
       "      <td>fair</td>\n",
       "      <td>fair</td>\n",
       "    </tr>\n",
       "  </tbody>\n",
       "</table>\n",
       "</div>"
      ],
      "text/plain": [
       "   score1 score2 score3\n",
       "0       2    bad    bad\n",
       "1       1   good   fair\n",
       "2       0    bad   good\n",
       "3       1   fair   fair"
      ]
     },
     "metadata": {},
     "output_type": "display_data"
    }
   ],
   "source": [
    "scores = scores.replace({\"score1\":{'good': 2, 'fair': 1, 'bad':0}})\n",
    "display(scores)\n",
    "# scores.dtypes\n",
    "\n",
    "# we don't use column.str.replace here!!\n",
    "# scores[\"score1\"].str.replace(\"good\",\"0\")\n"
   ]
  },
  {
   "cell_type": "markdown",
   "id": "b7db2889-a160-4f3d-814c-f7dc69b5c7e6",
   "metadata": {},
   "source": [
    "**Use bitwise orperators to select rows**<br>\n",
    "'&': Returns 1 if both the bits are 1 else 0;<br>\n",
    "'|': Returns 1 if either of the bit is 1 else 0;<br>\n",
    "'~':Returns one’s complement of the number.<br>"
   ]
  },
  {
   "cell_type": "code",
   "execution_count": 47,
   "id": "5187d01a-54e5-4ee6-8835-0458486f6d4d",
   "metadata": {},
   "outputs": [
    {
     "data": {
      "text/html": [
       "<div>\n",
       "<style scoped>\n",
       "    .dataframe tbody tr th:only-of-type {\n",
       "        vertical-align: middle;\n",
       "    }\n",
       "\n",
       "    .dataframe tbody tr th {\n",
       "        vertical-align: top;\n",
       "    }\n",
       "\n",
       "    .dataframe thead th {\n",
       "        text-align: right;\n",
       "    }\n",
       "</style>\n",
       "<table border=\"1\" class=\"dataframe\">\n",
       "  <thead>\n",
       "    <tr style=\"text-align: right;\">\n",
       "      <th></th>\n",
       "      <th>score1</th>\n",
       "      <th>score2</th>\n",
       "      <th>score3</th>\n",
       "      <th>pass</th>\n",
       "    </tr>\n",
       "  </thead>\n",
       "  <tbody>\n",
       "    <tr>\n",
       "      <th>0</th>\n",
       "      <td>2</td>\n",
       "      <td>bad</td>\n",
       "      <td>bad</td>\n",
       "      <td>False</td>\n",
       "    </tr>\n",
       "    <tr>\n",
       "      <th>1</th>\n",
       "      <td>1</td>\n",
       "      <td>good</td>\n",
       "      <td>fair</td>\n",
       "      <td>True</td>\n",
       "    </tr>\n",
       "    <tr>\n",
       "      <th>2</th>\n",
       "      <td>0</td>\n",
       "      <td>bad</td>\n",
       "      <td>good</td>\n",
       "      <td>False</td>\n",
       "    </tr>\n",
       "    <tr>\n",
       "      <th>3</th>\n",
       "      <td>1</td>\n",
       "      <td>fair</td>\n",
       "      <td>fair</td>\n",
       "      <td>True</td>\n",
       "    </tr>\n",
       "  </tbody>\n",
       "</table>\n",
       "</div>"
      ],
      "text/plain": [
       "   score1 score2 score3   pass\n",
       "0       2    bad    bad  False\n",
       "1       1   good   fair   True\n",
       "2       0    bad   good  False\n",
       "3       1   fair   fair   True"
      ]
     },
     "execution_count": 47,
     "metadata": {},
     "output_type": "execute_result"
    }
   ],
   "source": [
    "# If neither score2 nor score3 returns a bad score for that student, \n",
    "# the student pass the exams, we return true for that student.\n",
    "\n",
    "scores[\"pass\"] = scores['score2'].isin([\"good\",\"fair\"]) & scores['score3'].isin([\"good\",\"fair\"])\n",
    "# display(~(scores['score2'].isin([\"bad\"])))\n",
    "scores"
   ]
  },
  {
   "cell_type": "code",
   "execution_count": 48,
   "id": "91f4f450-9bf5-4689-b8f2-679a73592aaa",
   "metadata": {},
   "outputs": [
    {
     "data": {
      "text/html": [
       "<div>\n",
       "<style scoped>\n",
       "    .dataframe tbody tr th:only-of-type {\n",
       "        vertical-align: middle;\n",
       "    }\n",
       "\n",
       "    .dataframe tbody tr th {\n",
       "        vertical-align: top;\n",
       "    }\n",
       "\n",
       "    .dataframe thead th {\n",
       "        text-align: right;\n",
       "    }\n",
       "</style>\n",
       "<table border=\"1\" class=\"dataframe\">\n",
       "  <thead>\n",
       "    <tr style=\"text-align: right;\">\n",
       "      <th></th>\n",
       "      <th>score1</th>\n",
       "      <th>score2</th>\n",
       "      <th>score3</th>\n",
       "      <th>pass</th>\n",
       "      <th>pass2</th>\n",
       "    </tr>\n",
       "  </thead>\n",
       "  <tbody>\n",
       "    <tr>\n",
       "      <th>0</th>\n",
       "      <td>2</td>\n",
       "      <td>bad</td>\n",
       "      <td>bad</td>\n",
       "      <td>False</td>\n",
       "      <td>False</td>\n",
       "    </tr>\n",
       "    <tr>\n",
       "      <th>1</th>\n",
       "      <td>1</td>\n",
       "      <td>good</td>\n",
       "      <td>fair</td>\n",
       "      <td>True</td>\n",
       "      <td>True</td>\n",
       "    </tr>\n",
       "    <tr>\n",
       "      <th>2</th>\n",
       "      <td>0</td>\n",
       "      <td>bad</td>\n",
       "      <td>good</td>\n",
       "      <td>False</td>\n",
       "      <td>True</td>\n",
       "    </tr>\n",
       "    <tr>\n",
       "      <th>3</th>\n",
       "      <td>1</td>\n",
       "      <td>fair</td>\n",
       "      <td>fair</td>\n",
       "      <td>True</td>\n",
       "      <td>True</td>\n",
       "    </tr>\n",
       "  </tbody>\n",
       "</table>\n",
       "</div>"
      ],
      "text/plain": [
       "   score1 score2 score3   pass  pass2\n",
       "0       2    bad    bad  False  False\n",
       "1       1   good   fair   True   True\n",
       "2       0    bad   good  False   True\n",
       "3       1   fair   fair   True   True"
      ]
     },
     "execution_count": 48,
     "metadata": {},
     "output_type": "execute_result"
    }
   ],
   "source": [
    "# If score2 or score3 dosen't returns a bad score, the student pass the exams, we return true for that student.\n",
    "scores[\"pass2\"] = scores['score2'].isin([\"good\",\"fair\"]) | scores['score3'].isin([\"good\",\"fair\"])\n",
    "scores"
   ]
  },
  {
   "cell_type": "code",
   "execution_count": null,
   "id": "95cf8372-5e70-4005-8dcf-3fe1a8016d58",
   "metadata": {},
   "outputs": [],
   "source": []
  }
 ],
 "metadata": {
  "kernelspec": {
   "display_name": "Python 3 (ipykernel)",
   "language": "python",
   "name": "python3"
  },
  "language_info": {
   "codemirror_mode": {
    "name": "ipython",
    "version": 3
   },
   "file_extension": ".py",
   "mimetype": "text/x-python",
   "name": "python",
   "nbconvert_exporter": "python",
   "pygments_lexer": "ipython3",
   "version": "3.9.6"
  }
 },
 "nbformat": 4,
 "nbformat_minor": 5
}
